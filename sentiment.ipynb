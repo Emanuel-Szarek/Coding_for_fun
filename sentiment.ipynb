{
  "nbformat": 4,
  "nbformat_minor": 0,
  "metadata": {
    "kernelspec": {
      "display_name": "Python 3",
      "language": "python",
      "name": "python3"
    },
    "language_info": {
      "codemirror_mode": {
        "name": "ipython",
        "version": 3
      },
      "file_extension": ".py",
      "mimetype": "text/x-python",
      "name": "python",
      "nbconvert_exporter": "python",
      "pygments_lexer": "ipython3",
      "version": "3.7.4"
    },
    "colab": {
      "name": "sentiment.ipynb",
      "provenance": [],
      "collapsed_sections": []
    }
  },
  "cells": [
    {
      "cell_type": "code",
      "metadata": {
        "id": "Gp3aNU2zp59C"
      },
      "source": [
        "#Inspiration for the sentiment analysis and speech to text algorithms were found at:\n",
        "#https://www.geeksforgeeks.org/python-convert-speech-to-text-and-text-to-speech/ (speech to text)\n",
        "#https://towardsdatascience.com/sentiment-analysis-with-python-part-1-5ce197074184 (sentiment analysis)"
      ],
      "execution_count": null,
      "outputs": []
    },
    {
      "cell_type": "code",
      "metadata": {
        "id": "iJLP7vVc-PrF"
      },
      "source": [
        "#training set\n",
        "reviews_train = []\n",
        "for line in open('SpeechTrain3.txt', 'r'):\n",
        "    reviews_train.append(line.strip())\n",
        "#test set    \n",
        "reviews_test = []\n",
        "for line in open('SpeechTest.txt', 'r'):\n",
        "    reviews_test.append(line.strip())"
      ],
      "execution_count": null,
      "outputs": []
    },
    {
      "cell_type": "code",
      "metadata": {
        "id": "9pglx3tF-PrJ"
      },
      "source": [
        "#The length of the test and training set are necessary in order to distinguish between possitive and negative messages\n",
        "Test_len = len(reviews_test)\n",
        "Train_len = len(reviews_train)\n",
        "\n",
        "Train_len_half = int(Train_len/2)\n",
        "Test_len_half = int(Test_len/2)"
      ],
      "execution_count": null,
      "outputs": []
    },
    {
      "cell_type": "code",
      "metadata": {
        "id": "JxIrg1BT-PrM"
      },
      "source": [
        "#cleaning/text pre-processing function\n",
        "import re\n",
        "\n",
        "REPLACE_NO_SPACE = re.compile(\"[.;:!\\'?,\\\"()\\[\\]]\")\n",
        "REPLACE_WITH_SPACE = re.compile(\"(<br\\s*/><br\\s*/>)|(\\-)|(\\/)\")\n",
        "\n",
        "def preprocess_reviews(reviews):\n",
        "    reviews = [REPLACE_NO_SPACE.sub(\"\", line.lower()) for line in reviews]\n",
        "    reviews = [REPLACE_WITH_SPACE.sub(\" \", line) for line in reviews]\n",
        "    \n",
        "    return reviews\n",
        "\n",
        "reviews_train_clean = preprocess_reviews(reviews_train)\n",
        "reviews_test_clean = preprocess_reviews(reviews_test)"
      ],
      "execution_count": null,
      "outputs": []
    },
    {
      "cell_type": "code",
      "metadata": {
        "id": "7Nfo70Oi-PrP"
      },
      "source": [
        "#vectorizing testing and training datasets\n",
        "from sklearn.feature_extraction.text import CountVectorizer\n",
        "\n",
        "cv = CountVectorizer(binary=True)\n",
        "cv.fit(reviews_train_clean)\n",
        "X = cv.transform(reviews_train_clean)\n",
        "X_test = cv.transform(reviews_test_clean)"
      ],
      "execution_count": null,
      "outputs": []
    },
    {
      "cell_type": "code",
      "metadata": {
        "id": "ER7_uF0l-PrR",
        "outputId": "6c6da04c-9f65-48af-e0aa-47117c422447"
      },
      "source": [
        "#importing machine learning algorithm and training using logistic regression\n",
        "from sklearn.linear_model import LogisticRegression\n",
        "from sklearn.metrics import accuracy_score\n",
        "from sklearn.model_selection import train_test_split\n",
        "\n",
        "target_train = [1 if i <= Train_len_half else 0 for i in range(Train_len)]\n",
        "target_test = [1 if i <= Test_len_half else 0 for i in range(Test_len)]\n",
        "\n",
        "X_train, X_val, y_train, y_val = train_test_split(\n",
        "    X, target_train, train_size = 0.75\n",
        ")\n",
        "\n",
        "for c in [0.01, 0.05, 0.25, 0.5, 1, 1.5, 2, 3]:\n",
        "    \n",
        "    lr = LogisticRegression(C=c)\n",
        "    lr.fit(X_train, y_train)\n",
        "    print (\"Accuracy for C=%s: %s\" \n",
        "           % (c, accuracy_score(y_val, lr.predict(X_val))))"
      ],
      "execution_count": null,
      "outputs": [
        {
          "output_type": "stream",
          "text": [
            "Accuracy for C=0.01: 0.72\n",
            "Accuracy for C=0.05: 0.76\n",
            "Accuracy for C=0.25: 0.82\n",
            "Accuracy for C=0.5: 0.84\n",
            "Accuracy for C=1: 0.88\n",
            "Accuracy for C=1.5: 0.88\n",
            "Accuracy for C=2: 0.88\n",
            "Accuracy for C=3: 0.88\n"
          ],
          "name": "stdout"
        },
        {
          "output_type": "stream",
          "text": [
            "/Volumes/Transcend/opt/anaconda3/lib/python3.7/site-packages/sklearn/linear_model/logistic.py:432: FutureWarning: Default solver will be changed to 'lbfgs' in 0.22. Specify a solver to silence this warning.\n",
            "  FutureWarning)\n"
          ],
          "name": "stderr"
        }
      ]
    },
    {
      "cell_type": "code",
      "metadata": {
        "id": "UYdNVJI1-PrW",
        "outputId": "3e934308-e779-4643-ae8c-4095c5d978e3"
      },
      "source": [
        "#fitting the model to our training set\n",
        "#choose highest c # before the values plateau\n",
        "final_model = LogisticRegression(C=1.5)\n",
        "final_model.fit(X, target_train)\n",
        "print (\"Final Accuracy: %s\" \n",
        "       % accuracy_score(target_test, final_model.predict(X_test)))"
      ],
      "execution_count": null,
      "outputs": [
        {
          "output_type": "stream",
          "text": [
            "Final Accuracy: 0.81\n"
          ],
          "name": "stdout"
        }
      ]
    },
    {
      "cell_type": "code",
      "metadata": {
        "id": "Tb3qAfLQ-PrZ",
        "outputId": "1b6be654-7ab9-4bf3-e5b1-79d889236867"
      },
      "source": [
        "#Find out which words are associate the most with possitve messages\n",
        "feature_to_coef = {\n",
        "    word: coef for word, coef in zip(\n",
        "        cv.get_feature_names(), final_model.coef_[0]\n",
        "    )\n",
        "}\n",
        "for best_positive in sorted(\n",
        "    feature_to_coef.items(), \n",
        "    key=lambda x: x[1], \n",
        "    reverse=True)[:5]:\n",
        "    print (best_positive)\n",
        "    "
      ],
      "execution_count": null,
      "outputs": [
        {
          "output_type": "stream",
          "text": [
            "('good', 1.5790519418606421)\n",
            "('no', 1.3654543712616638)\n",
            "('nothing', 1.0990682117740753)\n",
            "('does', 1.0647630746427286)\n",
            "('satisfactory', 1.0468833644054143)\n"
          ],
          "name": "stdout"
        }
      ]
    },
    {
      "cell_type": "code",
      "metadata": {
        "id": "Is0cZc2X-Prb",
        "outputId": "ff653ac1-10ee-4c72-cf40-b9bbf18e7d73"
      },
      "source": [
        "#Find out which words are associate the most with negative messages\n",
        "for best_negative in sorted(\n",
        "    feature_to_coef.items(), \n",
        "    key=lambda x: x[1])[:5]:\n",
        "    print (best_negative)"
      ],
      "execution_count": null,
      "outputs": [
        {
          "output_type": "stream",
          "text": [
            "('not', -1.674107835678854)\n",
            "('broken', -1.597241689276459)\n",
            "('needs', -1.1264082355356657)\n",
            "('cheap', -1.0941093077406783)\n",
            "('was', -1.012038190888181)\n"
          ],
          "name": "stdout"
        }
      ]
    },
    {
      "cell_type": "code",
      "metadata": {
        "id": "LkREz_PD-Prd"
      },
      "source": [
        "#importing widget library for button support\n",
        "import ipywidgets as widgets\n",
        "from IPython.core.display import clear_output"
      ],
      "execution_count": null,
      "outputs": []
    },
    {
      "cell_type": "code",
      "metadata": {
        "id": "k_1TYSmP-Prg"
      },
      "source": [
        "#below runs slider and start button\n",
        "slider = widgets.IntSlider(\n",
        "    value= 0,\n",
        "    min=0,\n",
        "    max=25,\n",
        "    step=1,\n",
        "    description='Timer:',\n",
        "    orientation='horizontal',\n",
        "    readout=True,\n",
        "    readout_format='d')\n",
        "start_button = widgets.Button(description='Start')\n",
        "out = widgets.Output()\n",
        "def on_button_clicked(_):\n",
        "    with out:\n",
        "        time_value = slider.value\n",
        "        SpeaktoText(time_value)\n",
        "        clear_output()"
      ],
      "execution_count": null,
      "outputs": []
    },
    {
      "cell_type": "code",
      "metadata": {
        "id": "focYHmvd-Pri"
      },
      "source": [
        "# Python program to translate \n",
        "# speech to text and text to speech \n",
        "\n",
        "\n",
        "import speech_recognition as sr \n",
        "import pyttsx3 \n",
        "import time\n",
        "\n",
        "\n",
        "# Initialize the recognizer \n",
        "r = sr.Recognizer() \n",
        "\n",
        "# Function to convert text to \n",
        "# speech \n",
        "def SpeakText(command): \n",
        "\n",
        "    # Initialize the engine \n",
        "    engine = pyttsx3.init() \n",
        "    engine.say(command) \n",
        "    engine.runAndWait() \n",
        "    \n",
        "    \n",
        "# Loop infinitely for user to \n",
        "# speak \n",
        "\n",
        "#creating SpeaktoText function below \n",
        "\n",
        "def SpeaktoText(timer):\n",
        "    global MT\n",
        "    run_time = timer\n",
        "    t_end = time.time() + int(run_time)\n",
        "\n",
        "    MT = []\n",
        "\n",
        "    while time.time() < t_end:\n",
        "    \n",
        "    # Exception handling to handle \n",
        "    # exceptions at the runtime \n",
        "        try: \n",
        "\n",
        "        # use the microphone as source for input. \n",
        "            with sr.Microphone() as source2: \n",
        "\n",
        "            # wait for a second to let the recognizer \n",
        "            # adjust the energy threshold based on \n",
        "            # the surrounding noise level \n",
        "                r.adjust_for_ambient_noise(source2, duration=0.2) \n",
        "            \n",
        "            #listens for the user's input \n",
        "                audio2 = r.listen(source2) \n",
        "            \n",
        "            # Using ggogle to recognize audio \n",
        "                MyText = r.recognize_google(audio2) \n",
        "                MyText = MyText.lower() \n",
        "\n",
        "                print(MyText) \n",
        "            #SpeakText(MyText)\n",
        "                MT.append(MyText)\n",
        "        \n",
        "        except sr.RequestError as e: \n",
        "            print(\"Could not request results; {0}\".format(e)) \n",
        "\n",
        "        except sr.UnknownValueError: \n",
        "            print(\"unknown error occured\")\n",
        "\n"
      ],
      "execution_count": null,
      "outputs": []
    },
    {
      "cell_type": "code",
      "metadata": {
        "id": "vDOc20jH-Prm",
        "outputId": "34d14b15-8094-4ba4-cc9b-a0c636896f71",
        "colab": {
          "referenced_widgets": [
            "dfc5084a6d884b4a9c1e58407dbbcdb4"
          ]
        }
      },
      "source": [
        "#start and timer slider widget \n",
        "start_button.on_click(on_button_clicked)\n",
        "widgets.VBox([start_button, slider, out])"
      ],
      "execution_count": null,
      "outputs": [
        {
          "output_type": "display_data",
          "data": {
            "application/vnd.jupyter.widget-view+json": {
              "model_id": "dfc5084a6d884b4a9c1e58407dbbcdb4",
              "version_major": 2,
              "version_minor": 0
            },
            "text/plain": [
              "VBox(children=(Button(description='Start', style=ButtonStyle()), IntSlider(value=0, description='Timer:', max=…"
            ]
          },
          "metadata": {
            "tags": []
          }
        }
      ]
    },
    {
      "cell_type": "code",
      "metadata": {
        "id": "0snH6kHZ-Prp",
        "outputId": "1fd0867e-80f1-4556-cb3d-2bb348c587d6"
      },
      "source": [
        "#output from speech to text saved under output_train.txt\n",
        "with open(\"output_train.txt\", \"w\") as txt_file:\n",
        "    for line in MT:\n",
        "        txt_file.write(\"\".join(line) + \"\\n\")"
      ],
      "execution_count": null,
      "outputs": [
        {
          "output_type": "error",
          "ename": "NameError",
          "evalue": "name 'MT' is not defined",
          "traceback": [
            "\u001b[0;31m---------------------------------------------------------------------------\u001b[0m",
            "\u001b[0;31mNameError\u001b[0m                                 Traceback (most recent call last)",
            "\u001b[0;32m<ipython-input-13-1be663dc957b>\u001b[0m in \u001b[0;36m<module>\u001b[0;34m\u001b[0m\n\u001b[1;32m      1\u001b[0m \u001b[0;32mwith\u001b[0m \u001b[0mopen\u001b[0m\u001b[0;34m(\u001b[0m\u001b[0;34m\"output_train.txt\"\u001b[0m\u001b[0;34m,\u001b[0m \u001b[0;34m\"w\"\u001b[0m\u001b[0;34m)\u001b[0m \u001b[0;32mas\u001b[0m \u001b[0mtxt_file\u001b[0m\u001b[0;34m:\u001b[0m\u001b[0;34m\u001b[0m\u001b[0;34m\u001b[0m\u001b[0m\n\u001b[0;32m----> 2\u001b[0;31m     \u001b[0;32mfor\u001b[0m \u001b[0mline\u001b[0m \u001b[0;32min\u001b[0m \u001b[0mMT\u001b[0m\u001b[0;34m:\u001b[0m\u001b[0;34m\u001b[0m\u001b[0;34m\u001b[0m\u001b[0m\n\u001b[0m\u001b[1;32m      3\u001b[0m         \u001b[0mtxt_file\u001b[0m\u001b[0;34m.\u001b[0m\u001b[0mwrite\u001b[0m\u001b[0;34m(\u001b[0m\u001b[0;34m\"\"\u001b[0m\u001b[0;34m.\u001b[0m\u001b[0mjoin\u001b[0m\u001b[0;34m(\u001b[0m\u001b[0mline\u001b[0m\u001b[0;34m)\u001b[0m \u001b[0;34m+\u001b[0m \u001b[0;34m\"\\n\"\u001b[0m\u001b[0;34m)\u001b[0m\u001b[0;34m\u001b[0m\u001b[0;34m\u001b[0m\u001b[0m\n",
            "\u001b[0;31mNameError\u001b[0m: name 'MT' is not defined"
          ]
        }
      ]
    },
    {
      "cell_type": "code",
      "metadata": {
        "id": "NmKTS-jS-Prr"
      },
      "source": [
        "#vectorizing output from speech to text function\n",
        "MT1 = cv.transform(MT)"
      ],
      "execution_count": null,
      "outputs": []
    },
    {
      "cell_type": "code",
      "metadata": {
        "id": "HtC6CHK5-Prt"
      },
      "source": [
        "#predicting sentiment values of input speech to text\n",
        "final_model.predict(MT1)"
      ],
      "execution_count": null,
      "outputs": []
    },
    {
      "cell_type": "code",
      "metadata": {
        "id": "GcQD7ut3-b0s"
      },
      "source": [
        "#print the input from the microphone to compare it with the output from the sentiment analysis\n",
        "print(MT1)"
      ],
      "execution_count": null,
      "outputs": []
    },
    {
      "cell_type": "code",
      "metadata": {
        "id": "MUM_s-Jbp2C0"
      },
      "source": [
        ""
      ],
      "execution_count": null,
      "outputs": []
    },
    {
      "cell_type": "code",
      "metadata": {
        "id": "htaPFPel-dUp"
      },
      "source": [
        ""
      ],
      "execution_count": null,
      "outputs": []
    }
  ]
}