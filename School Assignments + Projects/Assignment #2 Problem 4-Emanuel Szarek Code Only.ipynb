{
 "cells": [
  {
   "cell_type": "code",
   "execution_count": 1,
   "metadata": {},
   "outputs": [],
   "source": [
    "import numpy as np\n",
    "import pandas as pd\n",
    "import matplotlib.pyplot as plt"
   ]
  },
  {
   "cell_type": "code",
   "execution_count": 2,
   "metadata": {},
   "outputs": [],
   "source": [
    "#Import the dataset\n",
    "Wine_DF = pd.read_csv(\"wine.data.csv\", sep = \",\")"
   ]
  },
  {
   "cell_type": "code",
   "execution_count": 3,
   "metadata": {},
   "outputs": [
    {
     "data": {
      "text/html": [
       "<div>\n",
       "<style scoped>\n",
       "    .dataframe tbody tr th:only-of-type {\n",
       "        vertical-align: middle;\n",
       "    }\n",
       "\n",
       "    .dataframe tbody tr th {\n",
       "        vertical-align: top;\n",
       "    }\n",
       "\n",
       "    .dataframe thead th {\n",
       "        text-align: right;\n",
       "    }\n",
       "</style>\n",
       "<table border=\"1\" class=\"dataframe\">\n",
       "  <thead>\n",
       "    <tr style=\"text-align: right;\">\n",
       "      <th></th>\n",
       "      <th>Class Identifier</th>\n",
       "      <th>Alcohol</th>\n",
       "      <th>Malic acid</th>\n",
       "      <th>Ash</th>\n",
       "      <th>Alcalinity of Ash</th>\n",
       "      <th>Magnesium</th>\n",
       "      <th>Total phenols</th>\n",
       "      <th>Flavanoids</th>\n",
       "      <th>Nonflavanod phenols</th>\n",
       "      <th>Proanthecyanins</th>\n",
       "      <th>Color intensity</th>\n",
       "      <th>Hue</th>\n",
       "      <th>OD280/OD315 of diluted wines</th>\n",
       "      <th>Proline</th>\n",
       "    </tr>\n",
       "  </thead>\n",
       "  <tbody>\n",
       "    <tr>\n",
       "      <th>0</th>\n",
       "      <td>1</td>\n",
       "      <td>14.23</td>\n",
       "      <td>1.71</td>\n",
       "      <td>2.43</td>\n",
       "      <td>15.6</td>\n",
       "      <td>127</td>\n",
       "      <td>2.80</td>\n",
       "      <td>3.06</td>\n",
       "      <td>0.28</td>\n",
       "      <td>2.29</td>\n",
       "      <td>5.64</td>\n",
       "      <td>1.04</td>\n",
       "      <td>3.92</td>\n",
       "      <td>1065</td>\n",
       "    </tr>\n",
       "    <tr>\n",
       "      <th>1</th>\n",
       "      <td>1</td>\n",
       "      <td>13.20</td>\n",
       "      <td>1.78</td>\n",
       "      <td>2.14</td>\n",
       "      <td>11.2</td>\n",
       "      <td>100</td>\n",
       "      <td>2.65</td>\n",
       "      <td>2.76</td>\n",
       "      <td>0.26</td>\n",
       "      <td>1.28</td>\n",
       "      <td>4.38</td>\n",
       "      <td>1.05</td>\n",
       "      <td>3.40</td>\n",
       "      <td>1050</td>\n",
       "    </tr>\n",
       "    <tr>\n",
       "      <th>2</th>\n",
       "      <td>1</td>\n",
       "      <td>13.16</td>\n",
       "      <td>2.36</td>\n",
       "      <td>2.67</td>\n",
       "      <td>18.6</td>\n",
       "      <td>101</td>\n",
       "      <td>2.80</td>\n",
       "      <td>3.24</td>\n",
       "      <td>0.30</td>\n",
       "      <td>2.81</td>\n",
       "      <td>5.68</td>\n",
       "      <td>1.03</td>\n",
       "      <td>3.17</td>\n",
       "      <td>1185</td>\n",
       "    </tr>\n",
       "    <tr>\n",
       "      <th>3</th>\n",
       "      <td>1</td>\n",
       "      <td>14.37</td>\n",
       "      <td>1.95</td>\n",
       "      <td>2.50</td>\n",
       "      <td>16.8</td>\n",
       "      <td>113</td>\n",
       "      <td>3.85</td>\n",
       "      <td>3.49</td>\n",
       "      <td>0.24</td>\n",
       "      <td>2.18</td>\n",
       "      <td>7.80</td>\n",
       "      <td>0.86</td>\n",
       "      <td>3.45</td>\n",
       "      <td>1480</td>\n",
       "    </tr>\n",
       "    <tr>\n",
       "      <th>4</th>\n",
       "      <td>1</td>\n",
       "      <td>13.24</td>\n",
       "      <td>2.59</td>\n",
       "      <td>2.87</td>\n",
       "      <td>21.0</td>\n",
       "      <td>118</td>\n",
       "      <td>2.80</td>\n",
       "      <td>2.69</td>\n",
       "      <td>0.39</td>\n",
       "      <td>1.82</td>\n",
       "      <td>4.32</td>\n",
       "      <td>1.04</td>\n",
       "      <td>2.93</td>\n",
       "      <td>735</td>\n",
       "    </tr>\n",
       "  </tbody>\n",
       "</table>\n",
       "</div>"
      ],
      "text/plain": [
       "   Class Identifier  Alcohol  Malic acid   Ash  Alcalinity of Ash  Magnesium  \\\n",
       "0                 1    14.23        1.71  2.43               15.6        127   \n",
       "1                 1    13.20        1.78  2.14               11.2        100   \n",
       "2                 1    13.16        2.36  2.67               18.6        101   \n",
       "3                 1    14.37        1.95  2.50               16.8        113   \n",
       "4                 1    13.24        2.59  2.87               21.0        118   \n",
       "\n",
       "   Total phenols  Flavanoids  Nonflavanod phenols  Proanthecyanins  \\\n",
       "0           2.80        3.06                 0.28             2.29   \n",
       "1           2.65        2.76                 0.26             1.28   \n",
       "2           2.80        3.24                 0.30             2.81   \n",
       "3           3.85        3.49                 0.24             2.18   \n",
       "4           2.80        2.69                 0.39             1.82   \n",
       "\n",
       "   Color intensity   Hue  OD280/OD315 of diluted wines  Proline  \n",
       "0             5.64  1.04                          3.92     1065  \n",
       "1             4.38  1.05                          3.40     1050  \n",
       "2             5.68  1.03                          3.17     1185  \n",
       "3             7.80  0.86                          3.45     1480  \n",
       "4             4.32  1.04                          2.93      735  "
      ]
     },
     "execution_count": 3,
     "metadata": {},
     "output_type": "execute_result"
    }
   ],
   "source": [
    "Wine_DF.head()"
   ]
  },
  {
   "cell_type": "markdown",
   "metadata": {},
   "source": [
    "1. Exploratory analysis\n",
    "a. Compute the distribution of the classes\n",
    "b. Check if any of the data samples have missing values, and if so, replace them with appropriate\n",
    "imputed values\n",
    "c. Plot the correlation between all pairs of attributes (including the class attribute)\n",
    "d. Divide the data randomly into a training, validation dataset and a test dataset in a 70:10:20\n",
    "ratio"
   ]
  },
  {
   "cell_type": "code",
   "execution_count": 4,
   "metadata": {},
   "outputs": [
    {
     "data": {
      "text/html": [
       "<div>\n",
       "<style scoped>\n",
       "    .dataframe tbody tr th:only-of-type {\n",
       "        vertical-align: middle;\n",
       "    }\n",
       "\n",
       "    .dataframe tbody tr th {\n",
       "        vertical-align: top;\n",
       "    }\n",
       "\n",
       "    .dataframe thead th {\n",
       "        text-align: right;\n",
       "    }\n",
       "</style>\n",
       "<table border=\"1\" class=\"dataframe\">\n",
       "  <thead>\n",
       "    <tr style=\"text-align: right;\">\n",
       "      <th></th>\n",
       "      <th>Class Identifier</th>\n",
       "      <th>Alcohol</th>\n",
       "      <th>Malic acid</th>\n",
       "      <th>Ash</th>\n",
       "      <th>Alcalinity of Ash</th>\n",
       "      <th>Magnesium</th>\n",
       "      <th>Total phenols</th>\n",
       "      <th>Flavanoids</th>\n",
       "      <th>Nonflavanod phenols</th>\n",
       "      <th>Proanthecyanins</th>\n",
       "      <th>Color intensity</th>\n",
       "      <th>Hue</th>\n",
       "      <th>OD280/OD315 of diluted wines</th>\n",
       "      <th>Proline</th>\n",
       "    </tr>\n",
       "  </thead>\n",
       "  <tbody>\n",
       "    <tr>\n",
       "      <th>count</th>\n",
       "      <td>178.000000</td>\n",
       "      <td>178.000000</td>\n",
       "      <td>178.000000</td>\n",
       "      <td>178.000000</td>\n",
       "      <td>178.000000</td>\n",
       "      <td>178.000000</td>\n",
       "      <td>178.000000</td>\n",
       "      <td>178.000000</td>\n",
       "      <td>178.000000</td>\n",
       "      <td>178.000000</td>\n",
       "      <td>178.000000</td>\n",
       "      <td>178.000000</td>\n",
       "      <td>178.000000</td>\n",
       "      <td>178.000000</td>\n",
       "    </tr>\n",
       "    <tr>\n",
       "      <th>mean</th>\n",
       "      <td>1.938202</td>\n",
       "      <td>13.000618</td>\n",
       "      <td>2.336348</td>\n",
       "      <td>2.366517</td>\n",
       "      <td>19.494944</td>\n",
       "      <td>99.741573</td>\n",
       "      <td>2.295112</td>\n",
       "      <td>2.029270</td>\n",
       "      <td>0.361854</td>\n",
       "      <td>1.590899</td>\n",
       "      <td>5.058090</td>\n",
       "      <td>0.957449</td>\n",
       "      <td>2.611685</td>\n",
       "      <td>746.893258</td>\n",
       "    </tr>\n",
       "    <tr>\n",
       "      <th>std</th>\n",
       "      <td>0.775035</td>\n",
       "      <td>0.811827</td>\n",
       "      <td>1.117146</td>\n",
       "      <td>0.274344</td>\n",
       "      <td>3.339564</td>\n",
       "      <td>14.282484</td>\n",
       "      <td>0.625851</td>\n",
       "      <td>0.998859</td>\n",
       "      <td>0.124453</td>\n",
       "      <td>0.572359</td>\n",
       "      <td>2.318286</td>\n",
       "      <td>0.228572</td>\n",
       "      <td>0.709990</td>\n",
       "      <td>314.907474</td>\n",
       "    </tr>\n",
       "    <tr>\n",
       "      <th>min</th>\n",
       "      <td>1.000000</td>\n",
       "      <td>11.030000</td>\n",
       "      <td>0.740000</td>\n",
       "      <td>1.360000</td>\n",
       "      <td>10.600000</td>\n",
       "      <td>70.000000</td>\n",
       "      <td>0.980000</td>\n",
       "      <td>0.340000</td>\n",
       "      <td>0.130000</td>\n",
       "      <td>0.410000</td>\n",
       "      <td>1.280000</td>\n",
       "      <td>0.480000</td>\n",
       "      <td>1.270000</td>\n",
       "      <td>278.000000</td>\n",
       "    </tr>\n",
       "    <tr>\n",
       "      <th>25%</th>\n",
       "      <td>1.000000</td>\n",
       "      <td>12.362500</td>\n",
       "      <td>1.602500</td>\n",
       "      <td>2.210000</td>\n",
       "      <td>17.200000</td>\n",
       "      <td>88.000000</td>\n",
       "      <td>1.742500</td>\n",
       "      <td>1.205000</td>\n",
       "      <td>0.270000</td>\n",
       "      <td>1.250000</td>\n",
       "      <td>3.220000</td>\n",
       "      <td>0.782500</td>\n",
       "      <td>1.937500</td>\n",
       "      <td>500.500000</td>\n",
       "    </tr>\n",
       "    <tr>\n",
       "      <th>50%</th>\n",
       "      <td>2.000000</td>\n",
       "      <td>13.050000</td>\n",
       "      <td>1.865000</td>\n",
       "      <td>2.360000</td>\n",
       "      <td>19.500000</td>\n",
       "      <td>98.000000</td>\n",
       "      <td>2.355000</td>\n",
       "      <td>2.135000</td>\n",
       "      <td>0.340000</td>\n",
       "      <td>1.555000</td>\n",
       "      <td>4.690000</td>\n",
       "      <td>0.965000</td>\n",
       "      <td>2.780000</td>\n",
       "      <td>673.500000</td>\n",
       "    </tr>\n",
       "    <tr>\n",
       "      <th>75%</th>\n",
       "      <td>3.000000</td>\n",
       "      <td>13.677500</td>\n",
       "      <td>3.082500</td>\n",
       "      <td>2.557500</td>\n",
       "      <td>21.500000</td>\n",
       "      <td>107.000000</td>\n",
       "      <td>2.800000</td>\n",
       "      <td>2.875000</td>\n",
       "      <td>0.437500</td>\n",
       "      <td>1.950000</td>\n",
       "      <td>6.200000</td>\n",
       "      <td>1.120000</td>\n",
       "      <td>3.170000</td>\n",
       "      <td>985.000000</td>\n",
       "    </tr>\n",
       "    <tr>\n",
       "      <th>max</th>\n",
       "      <td>3.000000</td>\n",
       "      <td>14.830000</td>\n",
       "      <td>5.800000</td>\n",
       "      <td>3.230000</td>\n",
       "      <td>30.000000</td>\n",
       "      <td>162.000000</td>\n",
       "      <td>3.880000</td>\n",
       "      <td>5.080000</td>\n",
       "      <td>0.660000</td>\n",
       "      <td>3.580000</td>\n",
       "      <td>13.000000</td>\n",
       "      <td>1.710000</td>\n",
       "      <td>4.000000</td>\n",
       "      <td>1680.000000</td>\n",
       "    </tr>\n",
       "  </tbody>\n",
       "</table>\n",
       "</div>"
      ],
      "text/plain": [
       "       Class Identifier     Alcohol  Malic acid         Ash  \\\n",
       "count        178.000000  178.000000  178.000000  178.000000   \n",
       "mean           1.938202   13.000618    2.336348    2.366517   \n",
       "std            0.775035    0.811827    1.117146    0.274344   \n",
       "min            1.000000   11.030000    0.740000    1.360000   \n",
       "25%            1.000000   12.362500    1.602500    2.210000   \n",
       "50%            2.000000   13.050000    1.865000    2.360000   \n",
       "75%            3.000000   13.677500    3.082500    2.557500   \n",
       "max            3.000000   14.830000    5.800000    3.230000   \n",
       "\n",
       "       Alcalinity of Ash   Magnesium  Total phenols  Flavanoids  \\\n",
       "count         178.000000  178.000000     178.000000  178.000000   \n",
       "mean           19.494944   99.741573       2.295112    2.029270   \n",
       "std             3.339564   14.282484       0.625851    0.998859   \n",
       "min            10.600000   70.000000       0.980000    0.340000   \n",
       "25%            17.200000   88.000000       1.742500    1.205000   \n",
       "50%            19.500000   98.000000       2.355000    2.135000   \n",
       "75%            21.500000  107.000000       2.800000    2.875000   \n",
       "max            30.000000  162.000000       3.880000    5.080000   \n",
       "\n",
       "       Nonflavanod phenols  Proanthecyanins  Color intensity         Hue  \\\n",
       "count           178.000000       178.000000       178.000000  178.000000   \n",
       "mean              0.361854         1.590899         5.058090    0.957449   \n",
       "std               0.124453         0.572359         2.318286    0.228572   \n",
       "min               0.130000         0.410000         1.280000    0.480000   \n",
       "25%               0.270000         1.250000         3.220000    0.782500   \n",
       "50%               0.340000         1.555000         4.690000    0.965000   \n",
       "75%               0.437500         1.950000         6.200000    1.120000   \n",
       "max               0.660000         3.580000        13.000000    1.710000   \n",
       "\n",
       "       OD280/OD315 of diluted wines      Proline  \n",
       "count                    178.000000   178.000000  \n",
       "mean                       2.611685   746.893258  \n",
       "std                        0.709990   314.907474  \n",
       "min                        1.270000   278.000000  \n",
       "25%                        1.937500   500.500000  \n",
       "50%                        2.780000   673.500000  \n",
       "75%                        3.170000   985.000000  \n",
       "max                        4.000000  1680.000000  "
      ]
     },
     "execution_count": 4,
     "metadata": {},
     "output_type": "execute_result"
    }
   ],
   "source": [
    "#Exploratoty analysis\n",
    "Wine_DF.describe()"
   ]
  },
  {
   "cell_type": "code",
   "execution_count": 5,
   "metadata": {},
   "outputs": [
    {
     "data": {
      "text/plain": [
       "Class Identifier                False\n",
       "Alcohol                         False\n",
       "Malic acid                      False\n",
       "Ash                             False\n",
       "Alcalinity of Ash               False\n",
       "Magnesium                       False\n",
       "Total phenols                   False\n",
       "Flavanoids                      False\n",
       "Nonflavanod phenols             False\n",
       "Proanthecyanins                 False\n",
       "Color intensity                 False\n",
       "Hue                             False\n",
       "OD280/OD315 of diluted wines    False\n",
       "Proline                         False\n",
       "dtype: bool"
      ]
     },
     "execution_count": 5,
     "metadata": {},
     "output_type": "execute_result"
    }
   ],
   "source": [
    "Wine_DF.isnull().any()"
   ]
  },
  {
   "cell_type": "code",
   "execution_count": 6,
   "metadata": {},
   "outputs": [
    {
     "data": {
      "image/png": "[encoded data removed]",
      "text/plain": [
       "<Figure size 1800x1800 with 2 Axes>"
      ]
     },
     "metadata": {
      "needs_background": "light"
     },
     "output_type": "display_data"
    }
   ],
   "source": [
    "#Plotting correlation\n",
    "f = plt.figure(figsize=(25, 25))  \n",
    "plt.matshow(Wine_DF.corr(),fignum=f.number)  \n",
    "plt.xticks(range(len(Wine_DF.columns)), Wine_DF.columns, fontsize = 28,rotation=90)\n",
    "plt.yticks(range(len(Wine_DF.columns)), Wine_DF.columns, fontsize = 28)\n",
    "cb = plt.colorbar()\n",
    "cb.ax.tick_params(labelsize=26)\n",
    "\n",
    "\n",
    "plt.show()"
   ]
  },
  {
   "cell_type": "code",
   "execution_count": 7,
   "metadata": {},
   "outputs": [],
   "source": [
    "#Setting up Features and labels\n",
    "Wine_Features = Wine_DF.loc[:, Wine_DF.columns !='Class Identifier'].copy()\n",
    "Wine_label = Wine_DF[['Class Identifier']]"
   ]
  },
  {
   "cell_type": "code",
   "execution_count": 8,
   "metadata": {},
   "outputs": [],
   "source": [
    "from sklearn.tree import DecisionTreeClassifier\n",
    "from sklearn import metrics\n",
    "from sklearn.model_selection import train_test_split\n",
    "from sklearn.metrics import accuracy_score\n",
    "from sklearn.metrics import classification_report\n",
    "\n",
    "X = Wine_Features\n",
    "y = Wine_label\n",
    "\n",
    "#Creating Training, validation and test set\n",
    "X_train, X_test, y_train, y_test = train_test_split(X, y, test_size=0.2, random_state=1)\n",
    "\n",
    "X_train, X_val, y_train, y_val = train_test_split(X_train, y_train, test_size=0.125, random_state=1)\n",
    "# .7 Training / .1 val / .2 Test\n",
    "# .8 of the original train * .125 will equal .1  Subtract .8 with .1 because .1 is the validation set and .7 is the train\n",
    "#leaving the remaining .2 as the test set"
   ]
  },
  {
   "cell_type": "code",
   "execution_count": null,
   "metadata": {},
   "outputs": [],
   "source": []
  },
  {
   "cell_type": "markdown",
   "metadata": {},
   "source": [
    "Decision Tree Classifier\n",
    "a. Train a Decision Tree classifier on the training data using Gini Index as the impurity measure.\n",
    "b. Compute the classification accuracy on the training, validation and test data.\n",
    "c. Try alternative values for any hyperparameters you selected and see if the validation accuracy improves. Compute the test accuracy for the best setting.\n",
    "\n",
    "When the test set is 30%, any combination of test and validation should get you an accuracy score of 1.0"
   ]
  },
  {
   "cell_type": "code",
   "execution_count": null,
   "metadata": {},
   "outputs": [],
   "source": []
  },
  {
   "cell_type": "code",
   "execution_count": 9,
   "metadata": {
    "scrolled": true
   },
   "outputs": [
    {
     "data": {
      "text/plain": [
       "DecisionTreeClassifier(class_weight=None, criterion='gini', max_depth=None,\n",
       "            max_features=None, max_leaf_nodes=None,\n",
       "            min_impurity_decrease=0.0, min_impurity_split=None,\n",
       "            min_samples_leaf=1, min_samples_split=2,\n",
       "            min_weight_fraction_leaf=0.0, presort=False, random_state=None,\n",
       "            splitter='best')"
      ]
     },
     "execution_count": 9,
     "metadata": {},
     "output_type": "execute_result"
    }
   ],
   "source": [
    "#Making decision tree and fitting it\n",
    "model = DecisionTreeClassifier()\n",
    "model.fit(X_train,y_train)"
   ]
  },
  {
   "cell_type": "code",
   "execution_count": 10,
   "metadata": {},
   "outputs": [
    {
     "name": "stdout",
     "output_type": "stream",
     "text": [
      "Training set\n",
      "              precision    recall  f1-score   support\n",
      "\n",
      "           1       1.00      1.00      1.00        40\n",
      "           2       1.00      1.00      1.00        50\n",
      "           3       1.00      1.00      1.00        34\n",
      "\n",
      "   micro avg       1.00      1.00      1.00       124\n",
      "   macro avg       1.00      1.00      1.00       124\n",
      "weighted avg       1.00      1.00      1.00       124\n",
      "\n",
      "Accuracy 1.0\n"
     ]
    }
   ],
   "source": [
    "print(\"Training set\")\n",
    "y_predict = model.predict(X_train)\n",
    "target_names = ['1', '2', \"3\"]\n",
    "print(classification_report(y_train, y_predict, target_names=target_names))\n",
    "print(\"Accuracy \" + str(accuracy_score(y_train, y_predict)))"
   ]
  },
  {
   "cell_type": "code",
   "execution_count": 11,
   "metadata": {},
   "outputs": [
    {
     "name": "stdout",
     "output_type": "stream",
     "text": [
      "Validation Set\n",
      "              precision    recall  f1-score   support\n",
      "\n",
      "           1       1.00      0.80      0.89         5\n",
      "           2       0.78      0.88      0.82         8\n",
      "           3       0.80      0.80      0.80         5\n",
      "\n",
      "   micro avg       0.83      0.83      0.83        18\n",
      "   macro avg       0.86      0.83      0.84        18\n",
      "weighted avg       0.85      0.83      0.84        18\n",
      "\n",
      "Accuracy 0.8333333333333334\n"
     ]
    }
   ],
   "source": [
    "print(\"Validation Set\")\n",
    "y_predict = model.predict(X_val)\n",
    "target_names = ['1', '2', \"3\"]\n",
    "print(classification_report(y_val, y_predict, target_names=target_names))\n",
    "print(\"Accuracy \" + str(accuracy_score(y_val, y_predict)))"
   ]
  },
  {
   "cell_type": "code",
   "execution_count": 12,
   "metadata": {},
   "outputs": [
    {
     "name": "stdout",
     "output_type": "stream",
     "text": [
      "Test Set\n",
      "              precision    recall  f1-score   support\n",
      "\n",
      "           1       0.93      0.93      0.93        14\n",
      "           2       0.92      0.92      0.92        13\n",
      "           3       1.00      1.00      1.00         9\n",
      "\n",
      "   micro avg       0.94      0.94      0.94        36\n",
      "   macro avg       0.95      0.95      0.95        36\n",
      "weighted avg       0.94      0.94      0.94        36\n",
      "\n",
      "Accuracy 0.9444444444444444\n"
     ]
    }
   ],
   "source": [
    "print(\"Test Set\")\n",
    "y_predict = model.predict(X_test)\n",
    "target_names = ['1', '2', \"3\"]\n",
    "print(classification_report(y_test, y_predict, target_names=target_names))\n",
    "print(\"Accuracy \" + str(accuracy_score(y_test, y_predict)))"
   ]
  },
  {
   "cell_type": "code",
   "execution_count": 13,
   "metadata": {},
   "outputs": [],
   "source": [
    "#Playing with Hyperparameters to find best accuracy for validation\n",
    "X_train, X_test, y_train, y_test = train_test_split(X, y, test_size=0.3, random_state=1)\n",
    "\n",
    "X_train, X_val, y_train, y_val = train_test_split(X_train, y_train, test_size= .3, random_state=1)"
   ]
  },
  {
   "cell_type": "code",
   "execution_count": 14,
   "metadata": {},
   "outputs": [
    {
     "data": {
      "text/plain": [
       "1.0"
      ]
     },
     "execution_count": 14,
     "metadata": {},
     "output_type": "execute_result"
    }
   ],
   "source": [
    "#Test accuracry for the best setting\n",
    "y_predict = model.predict(X_val)\n",
    "accuracy_score(y_val, y_predict)"
   ]
  },
  {
   "cell_type": "code",
   "execution_count": null,
   "metadata": {},
   "outputs": [],
   "source": []
  },
  {
   "cell_type": "markdown",
   "metadata": {},
   "source": [
    "Use k-NN with Euclidean distance and k = 5.\n",
    "b. Compute the classification accuracy on the training, validation and test data.\n",
    "c. Try alternative values of k (such as 1, 3, 7, 9) and see if the validation accuracy improves.  Compute the test accuracy for the best setting.\n",
    "d. Repeat steps b and c after normalizing the input features\n",
    "\n",
    "C- The best validation accuracy for both un-normalized and normalized were when K was low, 1 or 3.  Once K began to increase the accuracy began to fall."
   ]
  },
  {
   "cell_type": "code",
   "execution_count": null,
   "metadata": {},
   "outputs": [],
   "source": []
  },
  {
   "cell_type": "code",
   "execution_count": 15,
   "metadata": {},
   "outputs": [
    {
     "name": "stdout",
     "output_type": "stream",
     "text": [
      "KNN as 5, Test set\n",
      "              precision    recall  f1-score   support\n",
      "\n",
      "           1       0.92      0.86      0.89        14\n",
      "           2       0.64      0.69      0.67        13\n",
      "           3       0.44      0.44      0.44         9\n",
      "\n",
      "   micro avg       0.69      0.69      0.69        36\n",
      "   macro avg       0.67      0.66      0.67        36\n",
      "weighted avg       0.70      0.69      0.70        36\n",
      "\n",
      "Accuracy: 0.6944444444444444\n"
     ]
    }
   ],
   "source": [
    "print(\"KNN as 5, Test set\")\n",
    "from sklearn.neighbors import KNeighborsClassifier\n",
    "#Re-importing to make sure all the sets are still 70,10,20\n",
    "X = Wine_Features\n",
    "y = Wine_label\n",
    "X_train, X_test, y_train, y_test = train_test_split(X, y, test_size=0.2, random_state=1)\n",
    "X_train, X_val, y_train, y_val = train_test_split(X_train, y_train, test_size=0.125, random_state=1)\n",
    "\n",
    "#Creating KNN classifier\n",
    "knn = KNeighborsClassifier(n_neighbors = 5, metric = 'euclidean')\n",
    "knn.fit(X_train, y_train.values.ravel())\n",
    "\n",
    "N_y_pred = knn.predict(X_test)\n",
    "target_names = ['1', '2', \"3\"]\n",
    "print(classification_report(y_test, N_y_pred, target_names=target_names))\n",
    "print(\"Accuracy:\",metrics.accuracy_score(y_test, N_y_pred))"
   ]
  },
  {
   "cell_type": "code",
   "execution_count": 16,
   "metadata": {},
   "outputs": [
    {
     "name": "stdout",
     "output_type": "stream",
     "text": [
      "Train set\n",
      "              precision    recall  f1-score   support\n",
      "\n",
      "           1       0.92      0.90      0.91        40\n",
      "           2       0.85      0.78      0.81        50\n",
      "           3       0.72      0.82      0.77        34\n",
      "\n",
      "   micro avg       0.83      0.83      0.83       124\n",
      "   macro avg       0.83      0.83      0.83       124\n",
      "weighted avg       0.84      0.83      0.83       124\n",
      "\n",
      "Accuracy: 0.8306451612903226\n"
     ]
    }
   ],
   "source": [
    "print('Train set')\n",
    "N_y_pred = knn.predict(X_train)\n",
    "target_names = ['1', '2', \"3\"]\n",
    "print(classification_report(y_train, N_y_pred, target_names=target_names))\n",
    "print(\"Accuracy:\",metrics.accuracy_score(y_train, N_y_pred))"
   ]
  },
  {
   "cell_type": "code",
   "execution_count": 17,
   "metadata": {},
   "outputs": [
    {
     "name": "stdout",
     "output_type": "stream",
     "text": [
      "Validation set\n",
      "              precision    recall  f1-score   support\n",
      "\n",
      "           1       0.83      1.00      0.91         5\n",
      "           2       0.71      0.62      0.67         8\n",
      "           3       0.40      0.40      0.40         5\n",
      "\n",
      "   micro avg       0.67      0.67      0.67        18\n",
      "   macro avg       0.65      0.67      0.66        18\n",
      "weighted avg       0.66      0.67      0.66        18\n",
      "\n",
      "Accuracy: 0.6666666666666666\n"
     ]
    }
   ],
   "source": [
    "print(\"Validation set\")\n",
    "N_y_pred = knn.predict(X_val)\n",
    "target_names = ['1', '2', \"3\"]\n",
    "print(classification_report(y_val, N_y_pred, target_names=target_names))\n",
    "print(\"Accuracy:\",metrics.accuracy_score(y_val, N_y_pred))"
   ]
  },
  {
   "cell_type": "code",
   "execution_count": 18,
   "metadata": {},
   "outputs": [
    {
     "name": "stdout",
     "output_type": "stream",
     "text": [
      "K is 1\n",
      "Accuracy: 0.7777777777777778\n"
     ]
    }
   ],
   "source": [
    "print(\"K is 1\")\n",
    "knn = KNeighborsClassifier(n_neighbors = 1, metric = 'euclidean')\n",
    "knn.fit(X_train, y_train.values.ravel())\n",
    "N_y_pred = knn.predict(X_val)\n",
    "print(\"Accuracy:\",metrics.accuracy_score(y_val, N_y_pred))"
   ]
  },
  {
   "cell_type": "code",
   "execution_count": 19,
   "metadata": {},
   "outputs": [
    {
     "name": "stdout",
     "output_type": "stream",
     "text": [
      "K is 3\n",
      "Accuracy: 0.7777777777777778\n"
     ]
    }
   ],
   "source": [
    "print(\"K is 3\")\n",
    "knn = KNeighborsClassifier(n_neighbors = 3, metric = 'euclidean')\n",
    "knn.fit(X_train, y_train.values.ravel())\n",
    "N_y_pred = knn.predict(X_val)\n",
    "print(\"Accuracy:\",metrics.accuracy_score(y_val, N_y_pred))"
   ]
  },
  {
   "cell_type": "code",
   "execution_count": 20,
   "metadata": {},
   "outputs": [
    {
     "name": "stdout",
     "output_type": "stream",
     "text": [
      "K is 7\n",
      "Accuracy: 0.6111111111111112\n"
     ]
    }
   ],
   "source": [
    "print(\"K is 7\")\n",
    "knn = KNeighborsClassifier(n_neighbors = 7, metric = 'euclidean')\n",
    "knn.fit(X_train, y_train.values.ravel())\n",
    "N_y_pred = knn.predict(X_val)\n",
    "print(\"Accuracy:\",metrics.accuracy_score(y_val, N_y_pred))"
   ]
  },
  {
   "cell_type": "code",
   "execution_count": 21,
   "metadata": {},
   "outputs": [
    {
     "name": "stdout",
     "output_type": "stream",
     "text": [
      "K is 9\n",
      "Accuracy: 0.7222222222222222\n"
     ]
    }
   ],
   "source": [
    "print(\"K is 9\")\n",
    "knn = KNeighborsClassifier(n_neighbors = 9, metric = 'euclidean')\n",
    "knn.fit(X_train, y_train.values.ravel())\n",
    "N_y_pred = knn.predict(X_val)\n",
    "print(\"Accuracy:\",metrics.accuracy_score(y_val, N_y_pred))"
   ]
  },
  {
   "cell_type": "code",
   "execution_count": 22,
   "metadata": {},
   "outputs": [
    {
     "name": "stdout",
     "output_type": "stream",
     "text": [
      "K is 12.  As K increases accuracy stays low and does not get better than the earlier lower K values\n",
      "Accuracy: 0.6111111111111112\n"
     ]
    }
   ],
   "source": [
    "print(\"K is 12.  As K increases accuracy stays low and does not get better than the earlier lower K values\")\n",
    "knn = KNeighborsClassifier(n_neighbors = 12, metric = 'euclidean')\n",
    "knn.fit(X_train, y_train.values.ravel())\n",
    "N_y_pred = knn.predict(X_val)\n",
    "print(\"Accuracy:\",metrics.accuracy_score(y_val, N_y_pred))"
   ]
  },
  {
   "cell_type": "code",
   "execution_count": 23,
   "metadata": {},
   "outputs": [],
   "source": [
    "#Normalizing the data\n",
    "\n",
    "from sklearn import preprocessing\n",
    "normalized_X = preprocessing.normalize(X)"
   ]
  },
  {
   "cell_type": "code",
   "execution_count": 24,
   "metadata": {},
   "outputs": [
    {
     "name": "stdout",
     "output_type": "stream",
     "text": [
      "Normalized Test set, K = 5\n",
      "              precision    recall  f1-score   support\n",
      "\n",
      "           1       1.00      0.79      0.88        14\n",
      "           2       0.67      0.92      0.77        13\n",
      "           3       0.71      0.56      0.63         9\n",
      "\n",
      "   micro avg       0.78      0.78      0.78        36\n",
      "   macro avg       0.79      0.75      0.76        36\n",
      "weighted avg       0.81      0.78      0.78        36\n",
      "\n",
      "Accuracy: 0.7777777777777778\n"
     ]
    }
   ],
   "source": [
    "#Training the sets on the normalized data\n",
    "X_train, X_test, y_train, y_test = train_test_split(normalized_X, y, test_size=0.2, random_state=1)\n",
    "\n",
    "X_train, X_val, y_train, y_val = train_test_split(X_train, y_train, test_size=0.125, random_state=1)\n",
    "\n",
    "print(\"Normalized Test set, K = 5\")\n",
    "\n",
    "knn_normalized = KNeighborsClassifier(n_neighbors = 5, metric = 'euclidean')\n",
    "knn_normalized.fit(X_train, y_train.values.ravel())\n",
    "Normalized_y_pred = knn_normalized.predict(X_test)\n",
    "target_names = ['1', '2', \"3\"]\n",
    "print(classification_report(y_test, Normalized_y_pred, target_names=target_names))\n",
    "print(\"Accuracy:\",metrics.accuracy_score(y_test, Normalized_y_pred))"
   ]
  },
  {
   "cell_type": "code",
   "execution_count": 25,
   "metadata": {},
   "outputs": [
    {
     "name": "stdout",
     "output_type": "stream",
     "text": [
      "Normalized Training set, K = 5\n",
      "              precision    recall  f1-score   support\n",
      "\n",
      "           1       0.93      0.93      0.93        40\n",
      "           2       0.85      0.88      0.86        50\n",
      "           3       0.84      0.79      0.82        34\n",
      "\n",
      "   micro avg       0.87      0.87      0.87       124\n",
      "   macro avg       0.87      0.87      0.87       124\n",
      "weighted avg       0.87      0.87      0.87       124\n",
      "\n",
      "Accuracy: 0.8709677419354839\n"
     ]
    }
   ],
   "source": [
    "print(\"Normalized Training set, K = 5\")\n",
    "knn_normalized = KNeighborsClassifier(n_neighbors = 5, metric = 'euclidean')\n",
    "knn_normalized.fit(X_train, y_train.values.ravel())\n",
    "Normalized_y_pred = knn_normalized.predict(X_train)\n",
    "target_names = ['1', '2', \"3\"]\n",
    "print(classification_report(y_train, Normalized_y_pred, target_names=target_names))\n",
    "print(\"Accuracy:\",metrics.accuracy_score(y_train, Normalized_y_pred))"
   ]
  },
  {
   "cell_type": "code",
   "execution_count": 26,
   "metadata": {},
   "outputs": [
    {
     "name": "stdout",
     "output_type": "stream",
     "text": [
      "Normalized Validation Set, K = 5\n",
      "              precision    recall  f1-score   support\n",
      "\n",
      "           1       1.00      1.00      1.00         5\n",
      "           2       0.70      0.88      0.78         8\n",
      "           3       0.67      0.40      0.50         5\n",
      "\n",
      "   micro avg       0.78      0.78      0.78        18\n",
      "   macro avg       0.79      0.76      0.76        18\n",
      "weighted avg       0.77      0.78      0.76        18\n",
      "\n",
      "Accuracy: 0.7777777777777778\n"
     ]
    }
   ],
   "source": [
    "print(\"Normalized Validation Set, K = 5\")\n",
    "knn_normalized = KNeighborsClassifier(n_neighbors = 5, metric = 'euclidean')\n",
    "knn_normalized.fit(X_train, y_train.values.ravel())\n",
    "Normalized_y_pred = knn_normalized.predict(X_val)\n",
    "target_names = ['1', '2', \"3\"]\n",
    "print(classification_report(y_val, Normalized_y_pred, target_names=target_names))\n",
    "print(\"Accuracy:\",metrics.accuracy_score(y_val, Normalized_y_pred))"
   ]
  },
  {
   "cell_type": "code",
   "execution_count": 27,
   "metadata": {},
   "outputs": [
    {
     "name": "stdout",
     "output_type": "stream",
     "text": [
      "K = 1\n",
      "Accuracy: 0.7777777777777778\n"
     ]
    }
   ],
   "source": [
    "print(\"K = 1\")\n",
    "knn_normalized = KNeighborsClassifier(n_neighbors = 1, metric = 'euclidean')\n",
    "knn_normalized.fit(X_train, y_train.values.ravel())\n",
    "Normalized_y_pred = knn_normalized.predict(X_val)\n",
    "print(\"Accuracy:\",metrics.accuracy_score(y_val, Normalized_y_pred))"
   ]
  },
  {
   "cell_type": "code",
   "execution_count": 28,
   "metadata": {},
   "outputs": [
    {
     "name": "stdout",
     "output_type": "stream",
     "text": [
      "K = 3\n",
      "Accuracy: 0.7777777777777778\n"
     ]
    }
   ],
   "source": [
    "print(\"K = 3\")\n",
    "knn_normalized = KNeighborsClassifier(n_neighbors = 3, metric = 'euclidean')\n",
    "knn_normalized.fit(X_train, y_train.values.ravel())\n",
    "Normalized_y_pred = knn_normalized.predict(X_val)\n",
    "print(\"Accuracy:\",metrics.accuracy_score(y_val, Normalized_y_pred))"
   ]
  },
  {
   "cell_type": "code",
   "execution_count": 29,
   "metadata": {},
   "outputs": [
    {
     "name": "stdout",
     "output_type": "stream",
     "text": [
      "K = 7\n",
      "Accuracy: 0.5\n"
     ]
    }
   ],
   "source": [
    "print(\"K = 7\")\n",
    "knn_normalized = KNeighborsClassifier(n_neighbors = 7, metric = 'euclidean')\n",
    "knn_normalized.fit(X_train, y_train.values.ravel())\n",
    "Normalized_y_pred = knn_normalized.predict(X_val)\n",
    "print(\"Accuracy:\",metrics.accuracy_score(y_val, Normalized_y_pred))"
   ]
  },
  {
   "cell_type": "code",
   "execution_count": 30,
   "metadata": {},
   "outputs": [
    {
     "name": "stdout",
     "output_type": "stream",
     "text": [
      "K = 9\n",
      "Accuracy: 0.5555555555555556\n"
     ]
    }
   ],
   "source": [
    "print(\"K = 9\")\n",
    "knn_normalized = KNeighborsClassifier(n_neighbors = 9, metric = 'euclidean')\n",
    "knn_normalized.fit(X_train, y_train.values.ravel())\n",
    "Normalized_y_pred = knn_normalized.predict(X_val)\n",
    "print(\"Accuracy:\",metrics.accuracy_score(y_val, Normalized_y_pred))"
   ]
  },
  {
   "cell_type": "code",
   "execution_count": 31,
   "metadata": {},
   "outputs": [
    {
     "name": "stdout",
     "output_type": "stream",
     "text": [
      "K = 12.  As K increases accuracy stays low and does not get better than the earlier lower K values\n",
      "Accuracy: 0.5555555555555556\n"
     ]
    }
   ],
   "source": [
    "print(\"K = 12.  As K increases accuracy stays low and does not get better than the earlier lower K values\")\n",
    "knn_normalized = KNeighborsClassifier(n_neighbors = 12, metric = 'euclidean')\n",
    "knn_normalized.fit(X_train, y_train.values.ravel())\n",
    "Normalized_y_pred = knn_normalized.predict(X_val)\n",
    "print(\"Accuracy:\",metrics.accuracy_score(y_val, Normalized_y_pred))\n"
   ]
  },
  {
   "cell_type": "code",
   "execution_count": null,
   "metadata": {},
   "outputs": [],
   "source": []
  },
  {
   "cell_type": "markdown",
   "metadata": {},
   "source": [
    "Cross-validation\n",
    "a. Use 5-fold cross-validation to train and evaluate the decision tree and k-NN classifiers, using 4 folds for training and one for testing. "
   ]
  },
  {
   "cell_type": "code",
   "execution_count": null,
   "metadata": {},
   "outputs": [],
   "source": []
  },
  {
   "cell_type": "code",
   "execution_count": 32,
   "metadata": {},
   "outputs": [
    {
     "name": "stdout",
     "output_type": "stream",
     "text": [
      "[0.86486486 0.86111111 0.94444444 0.91428571 0.85294118]\n",
      "0.8875294622353446\n"
     ]
    }
   ],
   "source": [
    "from sklearn.model_selection import cross_val_score\n",
    "#The decision tree was called model - renamed it\n",
    "Decision_tree = model\n",
    "X = Wine_Features\n",
    "y = Wine_label\n",
    "#cv = 5 means crossfold validation will be set to 5\n",
    "scores_Dtree = cross_val_score(Decision_tree, X, y.values.ravel(), cv=5, scoring='accuracy')\n",
    "#The score is shown after each fold\n",
    "print(scores_Dtree)\n",
    "print(scores_Dtree.mean())"
   ]
  },
  {
   "cell_type": "code",
   "execution_count": 33,
   "metadata": {},
   "outputs": [
    {
     "name": "stdout",
     "output_type": "stream",
     "text": [
      "[0.64864865 0.66666667 0.66666667 0.74285714 0.73529412]\n",
      "0.6920266484972367\n"
     ]
    }
   ],
   "source": [
    "scores_KNN = cross_val_score(knn, X, y.values.ravel(), cv=5, scoring='accuracy')\n",
    "print(scores_KNN)\n",
    "print(scores_KNN.mean())\n"
   ]
  },
  {
   "cell_type": "code",
   "execution_count": null,
   "metadata": {},
   "outputs": [],
   "source": []
  },
  {
   "cell_type": "markdown",
   "metadata": {},
   "source": [
    "Other classifiers\n",
    "a. Train and test any two of Random Forest, Logistic Regression, SVM or ANN for this problem and use cross validation to compare the results with those of Decision Tree and k-NN."
   ]
  },
  {
   "cell_type": "code",
   "execution_count": null,
   "metadata": {},
   "outputs": [],
   "source": []
  },
  {
   "cell_type": "code",
   "execution_count": 34,
   "metadata": {},
   "outputs": [
    {
     "data": {
      "text/plain": [
       "RandomForestClassifier(bootstrap=True, class_weight=None, criterion='gini',\n",
       "            max_depth=None, max_features='auto', max_leaf_nodes=None,\n",
       "            min_impurity_decrease=0.0, min_impurity_split=None,\n",
       "            min_samples_leaf=1, min_samples_split=2,\n",
       "            min_weight_fraction_leaf=0.0, n_estimators=100, n_jobs=None,\n",
       "            oob_score=False, random_state=None, verbose=0,\n",
       "            warm_start=False)"
      ]
     },
     "execution_count": 34,
     "metadata": {},
     "output_type": "execute_result"
    }
   ],
   "source": [
    "#Random Forest Classifier\n",
    "X_train, X_test, y_train, y_test = train_test_split(X, y, test_size=0.2, random_state=1)\n",
    "X_train, X_val, y_train, y_val = train_test_split(X_train, y_train, test_size=0.125, random_state=1)\n",
    "\n",
    "from sklearn.ensemble import RandomForestClassifier\n",
    "Rand_For_Class = RandomForestClassifier(n_estimators = 100)\n",
    "Rand_For_Class.fit(X_train, y_train.values.ravel())"
   ]
  },
  {
   "cell_type": "code",
   "execution_count": 35,
   "metadata": {},
   "outputs": [
    {
     "name": "stdout",
     "output_type": "stream",
     "text": [
      "RandomForest Test set\n",
      "              precision    recall  f1-score   support\n",
      "\n",
      "           1       0.93      1.00      0.97        14\n",
      "           2       1.00      0.92      0.96        13\n",
      "           3       1.00      1.00      1.00         9\n",
      "\n",
      "   micro avg       0.97      0.97      0.97        36\n",
      "   macro avg       0.98      0.97      0.98        36\n",
      "weighted avg       0.97      0.97      0.97        36\n",
      "\n",
      "Accuracy: 0.9722222222222222\n"
     ]
    }
   ],
   "source": [
    "print(\"RandomForest Test set\")\n",
    "Forest_y_pred = Rand_For_Class.predict(X_test)\n",
    "target_names = ['1', '2', \"3\"]\n",
    "print(classification_report(y_test, Forest_y_pred, target_names=target_names))\n",
    "print(\"Accuracy:\",metrics.accuracy_score(y_test, Forest_y_pred))\n"
   ]
  },
  {
   "cell_type": "code",
   "execution_count": 36,
   "metadata": {},
   "outputs": [
    {
     "name": "stdout",
     "output_type": "stream",
     "text": [
      "RandomForest Training set\n",
      "              precision    recall  f1-score   support\n",
      "\n",
      "           1       1.00      1.00      1.00        40\n",
      "           2       1.00      1.00      1.00        50\n",
      "           3       1.00      1.00      1.00        34\n",
      "\n",
      "   micro avg       1.00      1.00      1.00       124\n",
      "   macro avg       1.00      1.00      1.00       124\n",
      "weighted avg       1.00      1.00      1.00       124\n",
      "\n",
      "Accuracy: 1.0\n"
     ]
    }
   ],
   "source": [
    "print(\"RandomForest Training set\")\n",
    "Forest_y_pred = Rand_For_Class.predict(X_train)\n",
    "target_names = ['1', '2', \"3\"]\n",
    "print(classification_report(y_train, Forest_y_pred, target_names=target_names))\n",
    "print(\"Accuracy:\",metrics.accuracy_score(y_train, Forest_y_pred))\n"
   ]
  },
  {
   "cell_type": "code",
   "execution_count": 37,
   "metadata": {},
   "outputs": [
    {
     "name": "stdout",
     "output_type": "stream",
     "text": [
      "RandomeForest Validation set\n",
      "              precision    recall  f1-score   support\n",
      "\n",
      "           1       1.00      1.00      1.00         5\n",
      "           2       1.00      1.00      1.00         8\n",
      "           3       1.00      1.00      1.00         5\n",
      "\n",
      "   micro avg       1.00      1.00      1.00        18\n",
      "   macro avg       1.00      1.00      1.00        18\n",
      "weighted avg       1.00      1.00      1.00        18\n",
      "\n",
      "Accuracy: 1.0\n"
     ]
    }
   ],
   "source": [
    "print(\"RandomeForest Validation set\")\n",
    "Forest_y_pred = Rand_For_Class.predict(X_val)\n",
    "target_names = ['1', '2', \"3\"]\n",
    "print(classification_report(y_val, Forest_y_pred, target_names=target_names))\n",
    "print(\"Accuracy:\",metrics.accuracy_score(y_val, Forest_y_pred))\n"
   ]
  },
  {
   "cell_type": "code",
   "execution_count": 38,
   "metadata": {},
   "outputs": [
    {
     "name": "stdout",
     "output_type": "stream",
     "text": [
      "[0.94594595 0.97222222 1.         1.         1.        ]\n",
      "0.9836336336336335\n"
     ]
    }
   ],
   "source": [
    "X = Wine_Features\n",
    "y = Wine_label\n",
    "scores_RandF = cross_val_score(Rand_For_Class, X, y.values.ravel(), cv=5, scoring='accuracy')\n",
    "print(scores_RandF)\n",
    "print(scores_RandF.mean())\n"
   ]
  },
  {
   "cell_type": "code",
   "execution_count": 39,
   "metadata": {},
   "outputs": [
    {
     "data": {
      "text/plain": [
       "SVC(C=1.0, cache_size=200, class_weight=None, coef0=0.0,\n",
       "  decision_function_shape='ovr', degree=3, gamma='auto_deprecated',\n",
       "  kernel='linear', max_iter=-1, probability=False, random_state=None,\n",
       "  shrinking=True, tol=0.001, verbose=False)"
      ]
     },
     "execution_count": 39,
     "metadata": {},
     "output_type": "execute_result"
    }
   ],
   "source": [
    "# SVM Classifier \n",
    "\n",
    "from sklearn.svm import SVC\n",
    "X_train, X_test, y_train, y_test = train_test_split(X, y, test_size=0.2, random_state=1)\n",
    "X_train, X_val, y_train, y_val = train_test_split(X_train, y_train, test_size=0.125, random_state=1)\n",
    "\n",
    "svclassifier = SVC(kernel = 'linear')\n",
    "svclassifier.fit(X_train, y_train.values.ravel())\n",
    "\n"
   ]
  },
  {
   "cell_type": "code",
   "execution_count": 40,
   "metadata": {},
   "outputs": [
    {
     "name": "stdout",
     "output_type": "stream",
     "text": [
      "SVM test set\n",
      "              precision    recall  f1-score   support\n",
      "\n",
      "           1       0.93      1.00      0.97        14\n",
      "           2       0.92      0.92      0.92        13\n",
      "           3       1.00      0.89      0.94         9\n",
      "\n",
      "   micro avg       0.94      0.94      0.94        36\n",
      "   macro avg       0.95      0.94      0.94        36\n",
      "weighted avg       0.95      0.94      0.94        36\n",
      "\n",
      "Accuracy: 0.9444444444444444\n"
     ]
    }
   ],
   "source": [
    "print('SVM test set')\n",
    "SVC_y_pred = svclassifier.predict(X_test)\n",
    "\n",
    "target_names = ['1', '2', \"3\"]\n",
    "print(classification_report(y_test, SVC_y_pred, target_names=target_names))\n",
    "print(\"Accuracy:\",metrics.accuracy_score(y_test, SVC_y_pred))"
   ]
  },
  {
   "cell_type": "code",
   "execution_count": 41,
   "metadata": {},
   "outputs": [
    {
     "name": "stdout",
     "output_type": "stream",
     "text": [
      "SVM train set\n",
      "              precision    recall  f1-score   support\n",
      "\n",
      "           1       1.00      1.00      1.00        40\n",
      "           2       1.00      1.00      1.00        50\n",
      "           3       1.00      1.00      1.00        34\n",
      "\n",
      "   micro avg       1.00      1.00      1.00       124\n",
      "   macro avg       1.00      1.00      1.00       124\n",
      "weighted avg       1.00      1.00      1.00       124\n",
      "\n",
      "Accuracy: 1.0\n"
     ]
    }
   ],
   "source": [
    "print(\"SVM train set\")\n",
    "SVC_y_pred = svclassifier.predict(X_train)\n",
    "\n",
    "target_names = ['1', '2', \"3\"]\n",
    "print(classification_report(y_train, SVC_y_pred, target_names=target_names))\n",
    "print(\"Accuracy:\",metrics.accuracy_score(y_train, SVC_y_pred))"
   ]
  },
  {
   "cell_type": "code",
   "execution_count": 42,
   "metadata": {},
   "outputs": [
    {
     "name": "stdout",
     "output_type": "stream",
     "text": [
      "SVM val set\n",
      "              precision    recall  f1-score   support\n",
      "\n",
      "           1       1.00      1.00      1.00         5\n",
      "           2       1.00      1.00      1.00         8\n",
      "           3       1.00      1.00      1.00         5\n",
      "\n",
      "   micro avg       1.00      1.00      1.00        18\n",
      "   macro avg       1.00      1.00      1.00        18\n",
      "weighted avg       1.00      1.00      1.00        18\n",
      "\n",
      "Accuracy: 1.0\n"
     ]
    }
   ],
   "source": [
    "print(\"SVM val set\")\n",
    "SVC_y_pred = svclassifier.predict(X_val)\n",
    "\n",
    "target_names = ['1', '2', \"3\"]\n",
    "print(classification_report(y_val, SVC_y_pred, target_names=target_names))\n",
    "print(\"Accuracy:\",metrics.accuracy_score(y_val, SVC_y_pred))"
   ]
  },
  {
   "cell_type": "code",
   "execution_count": 43,
   "metadata": {},
   "outputs": [
    {
     "name": "stdout",
     "output_type": "stream",
     "text": [
      "[0.86486486 0.97222222 0.97222222 1.         1.        ]\n",
      "0.961861861861862\n"
     ]
    }
   ],
   "source": [
    "X = Wine_Features\n",
    "y = Wine_label\n",
    "scores_svc = cross_val_score(svclassifier, X, y.values.ravel(), cv=5, scoring='accuracy')\n",
    "print(scores_svc)\n",
    "print(scores_svc.mean())"
   ]
  },
  {
   "cell_type": "code",
   "execution_count": 44,
   "metadata": {
    "scrolled": true
   },
   "outputs": [
    {
     "name": "stdout",
     "output_type": "stream",
     "text": [
      "Cross Validation Scores\n",
      "Decision tree 0.8875294622353446\n",
      "KNN 0.6920266484972367\n",
      "Random Forest 0.9836336336336335\n",
      "SVC 0.961861861861862\n",
      " \n",
      "The Random forest and SVC classifiers perform much better than the Decision tree or KNN classifiers\n"
     ]
    }
   ],
   "source": [
    "print(\"Cross Validation Scores\")\n",
    "print(\"Decision tree \" + str(scores_Dtree.mean()))\n",
    "print(\"KNN \" + str(scores_KNN.mean()))\n",
    "print(\"Random Forest \" + str(scores_RandF.mean()))\n",
    "print('SVC ' + str(scores_svc.mean()))\n",
    "print(\" \")\n",
    "print(\"The Random forest and SVC classifiers perform much better than the Decision tree or KNN classifiers\")"
   ]
  },
  {
   "cell_type": "code",
   "execution_count": null,
   "metadata": {},
   "outputs": [],
   "source": []
  },
  {
   "cell_type": "code",
   "execution_count": null,
   "metadata": {},
   "outputs": [],
   "source": []
  },
  {
   "cell_type": "code",
   "execution_count": null,
   "metadata": {},
   "outputs": [],
   "source": []
  },
  {
   "cell_type": "markdown",
   "metadata": {},
   "source": [
    "Sources:\n",
    "    Correlation plot:https://stackoverflow.com/questions/29432629/plot-correlation-matrix-using-pandas and http://benalexkeen.com/correlation-in-python/\n",
    "    Traing/val/test split https://stackoverflow.com/questions/38250710/how-to-split-data-into-3-sets-train-validation-and-test\n",
    "    https://datascience.stackexchange.com/questions/15135/train-test-validation-set-splitting-in-sklearn\n",
    "    TreeClassifier - http://benalexkeen.com/decision-tree-classifier-in-python-using-scikit-learn/ - https://datascience.stackexchange.com/questions/15135/train-test-validation-set-splitting-in-sklearn%20#from%20sklearn.model_selection%20import%20train_test_split\n",
    "    \n",
    "   KNN help -\n",
    "    https://www.datacamp.com/community/tutorials/k-nearest-neighbor-classification-scikit-learn\n",
    "    https://scikit-learn.org/stable/modules/generated/sklearn.metrics.classification_report.html\n",
    "    https://scikit-learn.org/stable/modules/generated/sklearn.metrics.accuracy_score.html\n",
    "    https://machinelearningmastery.com/rescaling-data-for-machine-learning-in-python-with-scikit-learn/\n",
    "    Cross-Validation -\n",
    "    https://www.ritchieng.com/machine-learning-cross-validation/\n",
    "    https://scikit-learn.org/stable/modules/generated/sklearn.model_selection.cross_val_score.html\n",
    "    Random Forest Classifier-\n",
    "    https://www.datacamp.com/community/tutorials/random-forests-classifier-python\n",
    "    SVM classifier -\n",
    "    https://stackabuse.com/implementing-svm-and-kernel-svm-with-pythons-scikit-learn/\n",
    "    "
   ]
  },
  {
   "cell_type": "code",
   "execution_count": null,
   "metadata": {},
   "outputs": [],
   "source": []
  }
 ],
 "metadata": {
  "kernelspec": {
   "display_name": "Python 3",
   "language": "python",
   "name": "python3"
  },
  "language_info": {
   "codemirror_mode": {
    "name": "ipython",
    "version": 3
   },
   "file_extension": ".py",
   "mimetype": "text/x-python",
   "name": "python",
   "nbconvert_exporter": "python",
   "pygments_lexer": "ipython3",
   "version": "3.7.3"
  }
 },
 "nbformat": 4,
 "nbformat_minor": 2
}
